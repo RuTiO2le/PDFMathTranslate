{
 "cells": [
  {
   "cell_type": "code",
   "execution_count": null,
   "id": "e6920130",
   "metadata": {},
   "outputs": [],
   "source": [
    "import random\n",
    "from typing import Optional\n",
    "from transformers import AutoTokenizer\n",
    "import os\n",
    "\n",
    "import streamlit as st\n",
    "from openai import OpenAI\n",
    "\n",
    "# tokenizer = AutoTokenizer.from_pretrained(\"./tokenizer\", trust_remote_code=True)\n",
    "\n",
    "BASE_URLS = {\n",
    "    \"plamo2-8b-translation\": os.getenv(\"PLAMO_TRANSLATE_BASE_URL\"),\n",
    "    \"plamo2-8b-translation-sft\": os.getenv(\"PLAMO_TRANSLATE_BASE_URL\"),\n",
    "}\n",
    "\n",
    "MODEL_NAMES = {\n",
    "    \"plamo2-8b-translation\": \"plamo-2-8b-translation-32k\",\n",
    "    \"plamo2-8b-translation-sft\": \"plamo-2-8b-translation-32k\",\n",
    "}"
   ]
  },
  {
   "cell_type": "code",
   "execution_count": 4,
   "id": "1ba7a4b7",
   "metadata": {},
   "outputs": [
    {
     "data": {
      "text/plain": [
       "<generator object translate at 0x12f0b36f0>"
      ]
     },
     "execution_count": 4,
     "metadata": {},
     "output_type": "execute_result"
    }
   ],
   "source": [
    "def translate(\n",
    "    text: str,\n",
    "    model_name: str,\n",
    "    base_url: str,\n",
    "    input_lang: str = \"Japanese|English\",\n",
    "    output_lang: str = \"Japanese|English\",\n",
    "    temperature: float = 0.0,\n",
    "    best_of: int = 1,\n",
    "    type: Optional[str] = None,\n",
    "    stream: bool = False,\n",
    "):\n",
    "    client = OpenAI(base_url=base_url, api_key=\"a\")\n",
    "    is_started = False\n",
    "    output_lang_ditected = \"\"\n",
    "\n",
    "    if output_lang == \"Japanese|English\":\n",
    "        output_lang = \" lang=\"\n",
    "    else:\n",
    "        output_lang_ditected = output_lang\n",
    "        output_lang = f\" lang={output_lang}\\n\"\n",
    "        is_started = True\n",
    "    if type is not None:\n",
    "        type = f\" style={type}\"\n",
    "    else:\n",
    "        type = \"\"\n",
    "    messages = [\n",
    "        f\"\"\"<|plamo:op|>dataset\n",
    "translation\n",
    "<|plamo:op|>input{type} lang={input_lang}\n",
    "{text}\n",
    "<|plamo:op|>output{output_lang}\"\"\"\n",
    "    ]\n",
    "    output = \"\"\n",
    "    # n_tokens = len(tokenizer.encode(messages[0]))\n",
    "    # max_new_tokens = 30000 - n_tokens\n",
    "\n",
    "    if stream:\n",
    "        try:\n",
    "            for x in client.completions.create(\n",
    "                prompt=messages,  # type: ignore\n",
    "                model=model_name,\n",
    "                temperature=temperature,\n",
    "                max_tokens=15000,\n",
    "                stop=[\"<|plamo:op|>\"],\n",
    "                stream=True,\n",
    "            ):\n",
    "                output += x.choices[0].text\n",
    "                if not is_started and \"\\n\" in output:\n",
    "                    is_started = True\n",
    "                    output_lang_ditected, output = output.split(\"\\n\", 1)\n",
    "                yield output, output_lang_ditected\n",
    "        except Exception as e:\n",
    "            print(f\"Error: {e}\")\n",
    "            yield f\"Error: {e}\", \"\"\n",
    "    else:\n",
    "        try:\n",
    "            response = client.completions.create(\n",
    "                prompt=messages[0],\n",
    "                model=model_name,\n",
    "                temperature=temperature,\n",
    "                max_tokens=15000,\n",
    "                stop=[\"<|plamo:op|>\"],\n",
    "            )\n",
    "            output = response.choices[0].text\n",
    "            if not is_started and \"\\n\" in output:\n",
    "                output_lang_ditected, output = output.split(\"\\n\", 1)\n",
    "            return output, output_lang_ditected\n",
    "        except Exception as e:\n",
    "            print(f\"Error: {e}\")\n",
    "            return f\"Error: {e}\", \"\"\n",
    "\n",
    "translate(\n",
    "    text=\"こんにちは\",\n",
    "    model_name=MODEL_NAMES[\"plamo2-8b-translation-sft\"],\n",
    "    base_url=BASE_URLS[\"plamo2-8b-translation-sft\"],\n",
    ")"
   ]
  },
  {
   "cell_type": "code",
   "execution_count": null,
   "id": "0c51f664",
   "metadata": {},
   "outputs": [],
   "source": [
    "client = OpenAI(base_url=BASE_URLS[\"plamo2-8b-translation-sft\"], api_key=\"a\")\n",
    "is_started = False\n",
    "output_lang_ditected = \"\"\n",
    "\n",
    "if type is not None:\n",
    "    type = f\" style={type}\"\n",
    "else:\n",
    "    type = \"\"\n"
   ]
  },
  {
   "cell_type": "code",
   "execution_count": null,
   "id": "04e0bc9a",
   "metadata": {},
   "outputs": [
    {
     "data": {
      "text/plain": [
       "''"
      ]
     },
     "execution_count": 15,
     "metadata": {},
     "output_type": "execute_result"
    }
   ],
   "source": [
    "text = \"hello. how are you?\"\n",
    "messages = [\n",
    "    f\"\"\"<|plamo:op|>dataset\n",
    "translation\n",
    "<|plamo:op|>input{type} lang=Japanese|English\n",
    "{text}\n",
    "<|plamo:op|>output lang=Japanese|English\"\"\"\n",
    "]\n",
    "output = \"\"\n",
    "\n",
    "response = client.completions.create(\n",
    "    prompt=messages[0],\n",
    "    model=MODEL_NAMES[\"plamo2-8b-translation-sft\"],\n",
    "    temperature=0.,\n",
    "    max_tokens=15000,\n",
    "    stop=[\"<|plamo:op|>\"],\n",
    ")"
   ]
  },
  {
   "cell_type": "code",
   "execution_count": 17,
   "id": "c64f07d3",
   "metadata": {},
   "outputs": [
    {
     "data": {
      "text/plain": [
       "Completion(id='cmpl-58661e28-8194-48e3-b077-ba63a105d6e7', choices=[CompletionChoice(finish_reason='stop', index=0, logprobs=None, text='\\nこんにちは。お元気ですか？\\n', stop_reason='<|plamo:op|>', prompt_logprobs=None)], created=1748767802, model='plamo-2-8b-translation-32k', object='text_completion', system_fingerprint=None, usage=CompletionUsage(completion_tokens=6, prompt_tokens=37, total_tokens=43, completion_tokens_details=None, prompt_tokens_details=None))"
      ]
     },
     "execution_count": 17,
     "metadata": {},
     "output_type": "execute_result"
    }
   ],
   "source": [
    "response"
   ]
  },
  {
   "cell_type": "code",
   "execution_count": 18,
   "id": "9cb3825a",
   "metadata": {},
   "outputs": [
    {
     "data": {
      "text/plain": [
       "('', 'こんにちは。お元気ですか？\\n')"
      ]
     },
     "execution_count": 18,
     "metadata": {},
     "output_type": "execute_result"
    }
   ],
   "source": [
    "output = response.choices[0].text\n",
    "if not is_started and \"\\n\" in output:\n",
    "    output_lang_ditected, output = output.split(\"\\n\", 1)\n",
    "    \n",
    "output_lang_ditected, output"
   ]
  },
  {
   "cell_type": "code",
   "execution_count": 19,
   "id": "11e27532",
   "metadata": {},
   "outputs": [
    {
     "data": {
      "text/plain": [
       "'\\nこんにちは。お元気ですか？\\n'"
      ]
     },
     "execution_count": 19,
     "metadata": {},
     "output_type": "execute_result"
    }
   ],
   "source": [
    "response.choices[0].text"
   ]
  },
  {
   "cell_type": "code",
   "execution_count": null,
   "id": "39fda6d0",
   "metadata": {},
   "outputs": [],
   "source": []
  }
 ],
 "metadata": {
  "kernelspec": {
   "display_name": ".venv",
   "language": "python",
   "name": "python3"
  },
  "language_info": {
   "codemirror_mode": {
    "name": "ipython",
    "version": 3
   },
   "file_extension": ".py",
   "mimetype": "text/x-python",
   "name": "python",
   "nbconvert_exporter": "python",
   "pygments_lexer": "ipython3",
   "version": "3.10.16"
  }
 },
 "nbformat": 4,
 "nbformat_minor": 5
}
